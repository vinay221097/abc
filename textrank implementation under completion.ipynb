{
 "cells": [
  {
   "cell_type": "code",
   "execution_count": 1,
   "metadata": {},
   "outputs": [],
   "source": [
    "import re, string, unicodedata\n",
    "import nltk\n",
    "import contractions\n",
    "import inflect\n",
    "from bs4 import BeautifulSoup\n",
    "from nltk import word_tokenize, sent_tokenize\n",
    "from nltk.corpus import stopwords\n",
    "from nltk.stem import LancasterStemmer, WordNetLemmatizer"
   ]
  },
  {
   "cell_type": "code",
   "execution_count": 63,
   "metadata": {},
   "outputs": [],
   "source": [
    "sample=open(\"training.txt\",encoding=\"utf8\")"
   ]
  },
  {
   "cell_type": "code",
   "execution_count": 64,
   "metadata": {},
   "outputs": [],
   "source": [
    "sample=sample.read()"
   ]
  },
  {
   "cell_type": "code",
   "execution_count": 65,
   "metadata": {},
   "outputs": [],
   "source": [
    "words=word_tokenize(sample)"
   ]
  },
  {
   "cell_type": "code",
   "execution_count": 66,
   "metadata": {},
   "outputs": [],
   "source": [
    "def remove_non_ascii(words):\n",
    "    \"\"\"Remove non-ASCII characters from list of tokenized words\"\"\"\n",
    "    new_words = []\n",
    "    for word in words:\n",
    "        new_word = unicodedata.normalize('NFKD', word).encode('ascii', 'ignore').decode('utf-8', 'ignore')\n",
    "        new_words.append(new_word)\n",
    "    return new_word"
   ]
  },
  {
   "cell_type": "code",
   "execution_count": 67,
   "metadata": {},
   "outputs": [],
   "source": [
    "def to_lowercase(words):\n",
    "    \"\"\"Convert all characters to lowercase from list of tokenized words\"\"\"\n",
    "    new_words = []\n",
    "    for word in words:\n",
    "        new_word = word.lower()\n",
    "        new_words.append(new_word)\n",
    "    return new_words"
   ]
  },
  {
   "cell_type": "code",
   "execution_count": 68,
   "metadata": {},
   "outputs": [],
   "source": [
    "def remove_punctuation(words):\n",
    "    \"\"\"Remove punctuation from list of tokenized words\"\"\"\n",
    "    new_words = []\n",
    "    for word in words:\n",
    "        new_word = re.sub(r'[^\\w\\s]', '', word)\n",
    "        if new_word != '':\n",
    "            new_words.append(new_word)\n",
    "    return new_words"
   ]
  },
  {
   "cell_type": "code",
   "execution_count": 69,
   "metadata": {},
   "outputs": [],
   "source": [
    "def replace_numbers(words):\n",
    "    \"\"\"Replace all interger occurrences in list of tokenized words with textual representation\"\"\"\n",
    "    p = inflect.engine()\n",
    "    new_words = []\n",
    "    for word in words:\n",
    "        if word.isdigit():\n",
    "            new_word = p.number_to_words(word)\n",
    "            new_words.append(new_word)\n",
    "        else:\n",
    "            new_words.append(word)\n",
    "    return new_words"
   ]
  },
  {
   "cell_type": "code",
   "execution_count": 70,
   "metadata": {},
   "outputs": [],
   "source": [
    "def remove_stopwords(words):\n",
    "    \"\"\"Remove stop words from list of tokenized words\"\"\"\n",
    "    new_words = []\n",
    "    for word in words:\n",
    "        if word not in stopwords.words('english'):\n",
    "            new_words.append(word)\n",
    "    return new_words"
   ]
  },
  {
   "cell_type": "code",
   "execution_count": 71,
   "metadata": {},
   "outputs": [],
   "source": [
    "def stem_words(words):\n",
    "    \"\"\"Stem words in list of tokenized words\"\"\"\n",
    "    stemmer = LancasterStemmer()\n",
    "    stems = []\n",
    "    for word in words:\n",
    "        stem = stemmer.stem(word)\n",
    "        stems.append(stem)\n",
    "    return stems"
   ]
  },
  {
   "cell_type": "code",
   "execution_count": 72,
   "metadata": {},
   "outputs": [],
   "source": [
    "def lemmatize_verbs(words):\n",
    "    \"\"\"Lemmatize verbs in list of tokenized words\"\"\"\n",
    "    lemmatizer = WordNetLemmatizer()\n",
    "    lemmas = []\n",
    "    for word in words:\n",
    "        lemma = lemmatizer.lemmatize(word, pos='v')\n",
    "        lemmas.append(lemma)\n",
    "    return lemmas"
   ]
  },
  {
   "cell_type": "code",
   "execution_count": 73,
   "metadata": {},
   "outputs": [],
   "source": [
    "def normalize(words):\n",
    "    words = to_lowercase(words)\n",
    "    words = remove_punctuation(words)\n",
    "    words = remove_stopwords(words)\n",
    "    return words"
   ]
  },
  {
   "cell_type": "code",
   "execution_count": 74,
   "metadata": {},
   "outputs": [],
   "source": [
    "words=normalize(words)"
   ]
  },
  {
   "cell_type": "code",
   "execution_count": 75,
   "metadata": {},
   "outputs": [
    {
     "name": "stdout",
     "output_type": "stream",
     "text": [
      "['new', 'delhi', 'chastised', 'external', 'affairs', 'minister', 'sushma', 'swaraj', 'glorifying', 'harbouring', 'terrorists', 'pakistan', 'sunday', 'targeted', 'rss', 'uttar', 'pradesh', 'chief', 'minister', 'yogi', 'adityanath', 'united', 'nations', 'reply', 'swaraj', 'speech', 'general', 'assembly', 'pakistan', 'envoy', 'world', 'body', 'saad', 'warraich', 'described', 'rashtriya', 'swayamsevak', 'sangh', 'fascist', 'breeding', 'ground', 'terrorism', 'breeding', 'ground', 'terrorism', 'region', 'rss', 'centres', 'fascism', 'claims', 'religious', 'superiority', 'perpetrated', 'straight', 'patronage', 'across', 'india', 'warraich', 'statement', 'said', 'desperate', 'attempt', 'oneup', 'india', 'war', 'words', 'warraich', 'also', 'raked', 'national', 'registry', 'citizens', 'released', 'assam', 'july', 'country', 'members', 'india', 'minority', 'including', 'christians', 'muslims', 'publicly', 'lynched', 'hands', 'hindu', 'zealots', 'perpetrators', 'samjhauta', 'attack', 'receive', 'state', 'patronage', 'unabashed', 'hindu', 'extremist', 'yogi', 'adityanath', 'openly', 'advocates', 'religious', 'superiority', 'hindus', 'serves', 'face', 'largest', 'indian', 'state', 'uttar', 'pradesh', 'right', 'citizenship', 'bengalis', 'assam', 'arbitrarily', 'rescinded', 'suddenly', 'made', 'stateless', 'called', 'termites', 'prominent', 'indian', 'leader', 'churches', 'mosques', 'torched', 'surely', 'qualified', 'give', 'sermons', 'others', 'said', 'strongly', 'worded', 'message', 'international', 'community', 'swaraj', 'laid', 'bare', 'pakistan', 'inaction', 'terrorism', 'saying', 'commitment', 'terrorism', 'instrument', 'official', 'policy', 'abated', 'even', 'perpetrators', '911', 'terror', 'attacks', 'new', 'york', 'met', 'fate', 'swaraj', 'said', 'mastermind', '2008', 'mumbai', 'terror', 'attack', 'hafiz', 'saeed', 'still', 'roams', 'streets', 'pakistan', 'impunity', 'pakistan', 'commitment', 'terrorism', 'instrument', 'official', 'policy', 'abated', 'one', 'bit', 'neither', 'belief', 'hypocrisy', 'swaraj', 'said', 'biggest', 'challenge', 'era', 'comes', 'existential', 'threats', 'climate', 'change', 'terrorism', 'imagined', 'arrival', '21st', 'century', 'would', 'bring', 'age', 'common', 'good', 'defined', 'cooperation', 'quest', 'peace', 'prosperity', 'new', 'york', 'horrific', 'tragedy', '911', 'mumbai', 'catastrophe', '2611', 'became', 'nightmares', 'shattered', 'dreams', 'swaraj', 'said', 'told', 'world', 'leaders', 'general', 'debate', '73rd', 'session', 'general', 'assembly', 'startling', 'evidence', 'pakistan', 'duplicity', 'fact', 'osama', 'bin', 'laden', 'architect', 'ideologue', '911', 'attack', 'given', 'safe', 'country', 'even', 'world', 'wanted', 'terrorist', 'killed', 'american', 'special', 'forces', 'pakistan', 'continued', 'behave', 'nothing', 'happened', 'said']\n"
     ]
    }
   ],
   "source": [
    "print(words)"
   ]
  },
  {
   "cell_type": "code",
   "execution_count": 76,
   "metadata": {},
   "outputs": [],
   "source": [
    "def stem_and_lemmatize(words):\n",
    "    stems = stem_words(words)\n",
    "    lemmas = lemmatize_verbs(words)\n",
    "    return stems, lemmas"
   ]
  },
  {
   "cell_type": "code",
   "execution_count": 77,
   "metadata": {},
   "outputs": [],
   "source": [
    "stems, lemmas = stem_and_lemmatize(words)"
   ]
  },
  {
   "cell_type": "code",
   "execution_count": 78,
   "metadata": {},
   "outputs": [
    {
     "name": "stdout",
     "output_type": "stream",
     "text": [
      "['new', 'delh', 'chast', 'extern', 'affair', 'min', 'sushm', 'swaras', 'glor', 'harbo', 'ter', 'pak', 'sunday', 'target', 'rss', 'utt', 'pradesh', 'chief', 'min', 'yog', 'adityana', 'unit', 'nat', 'reply', 'swaras', 'speech', 'gen', 'assembl', 'pak', 'envoy', 'world', 'body', 'saad', 'warraich', 'describ', 'rashtriy', 'swayamsevak', 'sangh', 'fasc', 'bree', 'ground', 'ter', 'bree', 'ground', 'ter', 'reg', 'rss', 'cent', 'fasc', 'claim', 'religy', 'supery', 'perpet', 'straight', 'patron', 'across', 'ind', 'warraich', 'stat', 'said', 'desp', 'attempt', 'oneup', 'ind', 'war', 'word', 'warraich', 'also', 'rak', 'nat', 'reg', 'cit', 'releas', 'assam', 'july', 'country', 'memb', 'ind', 'min', 'includ', 'christians', 'muslim', 'publ', 'lynch', 'hand', 'hindu', 'zealot', 'perpet', 'samjhaut', 'attack', 'receiv', 'stat', 'patron', 'unabash', 'hindu', 'extrem', 'yog', 'adityana', 'op', 'advoc', 'religy', 'supery', 'hind', 'serv', 'fac', 'largest', 'ind', 'stat', 'utt', 'pradesh', 'right', 'cit', 'beng', 'assam', 'arbit', 'rescind', 'sud', 'mad', 'stateless', 'cal', 'termit', 'promin', 'ind', 'lead', 'church', 'mosqu', 'torch', 'sur', 'qual', 'giv', 'sermon', 'oth', 'said', 'strongly', 'word', 'mess', 'intern', 'commun', 'swaras', 'laid', 'bar', 'pak', 'inact', 'ter', 'say', 'commit', 'ter', 'instru', 'off', 'policy', 'ab', 'ev', 'perpet', '911', 'ter', 'attack', 'new', 'york', 'met', 'fat', 'swaras', 'said', 'mastermind', '2008', 'mumba', 'ter', 'attack', 'haf', 'saee', 'stil', 'roam', 'streets', 'pak', 'impun', 'pak', 'commit', 'ter', 'instru', 'off', 'policy', 'ab', 'on', 'bit', 'neith', 'believ', 'hypocrisy', 'swaras', 'said', 'biggest', 'challeng', 'er', 'com', 'ex', 'threats', 'clim', 'chang', 'ter', 'imagin', 'ar', '21st', 'century', 'would', 'bring', 'ag', 'common', 'good', 'defin', 'coop', 'quest', 'peac', 'prosp', 'new', 'york', 'hor', 'tragedy', '911', 'mumba', 'catastroph', '2611', 'becam', 'nightm', 'shat', 'dream', 'swaras', 'said', 'told', 'world', 'lead', 'gen', 'deb', '73rd', 'sess', 'gen', 'assembl', 'startl', 'evid', 'pak', 'dupl', 'fact', 'osam', 'bin', 'lad', 'architect', 'ideolog', '911', 'attack', 'giv', 'saf', 'country', 'ev', 'world', 'want', 'ter', 'kil', 'am', 'spec', 'forc', 'pak', 'continu', 'behav', 'noth', 'hap', 'said']\n"
     ]
    }
   ],
   "source": [
    "print(stems)"
   ]
  },
  {
   "cell_type": "code",
   "execution_count": 79,
   "metadata": {},
   "outputs": [
    {
     "name": "stdout",
     "output_type": "stream",
     "text": [
      "['new', 'delhi', 'chastise', 'external', 'affairs', 'minister', 'sushma', 'swaraj', 'glorify', 'harbour', 'terrorists', 'pakistan', 'sunday', 'target', 'rss', 'uttar', 'pradesh', 'chief', 'minister', 'yogi', 'adityanath', 'unite', 'nations', 'reply', 'swaraj', 'speech', 'general', 'assembly', 'pakistan', 'envoy', 'world', 'body', 'saad', 'warraich', 'describe', 'rashtriya', 'swayamsevak', 'sangh', 'fascist', 'breed', 'grind', 'terrorism', 'breed', 'grind', 'terrorism', 'region', 'rss', 'centre', 'fascism', 'claim', 'religious', 'superiority', 'perpetrate', 'straight', 'patronage', 'across', 'india', 'warraich', 'statement', 'say', 'desperate', 'attempt', 'oneup', 'india', 'war', 'word', 'warraich', 'also', 'rake', 'national', 'registry', 'citizens', 'release', 'assam', 'july', 'country', 'members', 'india', 'minority', 'include', 'christians', 'muslims', 'publicly', 'lynch', 'hand', 'hindu', 'zealots', 'perpetrators', 'samjhauta', 'attack', 'receive', 'state', 'patronage', 'unabashed', 'hindu', 'extremist', 'yogi', 'adityanath', 'openly', 'advocate', 'religious', 'superiority', 'hindus', 'serve', 'face', 'largest', 'indian', 'state', 'uttar', 'pradesh', 'right', 'citizenship', 'bengalis', 'assam', 'arbitrarily', 'rescind', 'suddenly', 'make', 'stateless', 'call', 'termites', 'prominent', 'indian', 'leader', 'church', 'mosques', 'torch', 'surely', 'qualify', 'give', 'sermons', 'others', 'say', 'strongly', 'word', 'message', 'international', 'community', 'swaraj', 'lay', 'bare', 'pakistan', 'inaction', 'terrorism', 'say', 'commitment', 'terrorism', 'instrument', 'official', 'policy', 'abate', 'even', 'perpetrators', '911', 'terror', 'attack', 'new', 'york', 'meet', 'fate', 'swaraj', 'say', 'mastermind', '2008', 'mumbai', 'terror', 'attack', 'hafiz', 'saeed', 'still', 'roam', 'streets', 'pakistan', 'impunity', 'pakistan', 'commitment', 'terrorism', 'instrument', 'official', 'policy', 'abate', 'one', 'bite', 'neither', 'belief', 'hypocrisy', 'swaraj', 'say', 'biggest', 'challenge', 'era', 'come', 'existential', 'threats', 'climate', 'change', 'terrorism', 'imagine', 'arrival', '21st', 'century', 'would', 'bring', 'age', 'common', 'good', 'define', 'cooperation', 'quest', 'peace', 'prosperity', 'new', 'york', 'horrific', 'tragedy', '911', 'mumbai', 'catastrophe', '2611', 'become', 'nightmares', 'shatter', 'dream', 'swaraj', 'say', 'tell', 'world', 'leaders', 'general', 'debate', '73rd', 'session', 'general', 'assembly', 'startle', 'evidence', 'pakistan', 'duplicity', 'fact', 'osama', 'bin', 'lade', 'architect', 'ideologue', '911', 'attack', 'give', 'safe', 'country', 'even', 'world', 'want', 'terrorist', 'kill', 'american', 'special', 'force', 'pakistan', 'continue', 'behave', 'nothing', 'happen', 'say']\n"
     ]
    }
   ],
   "source": [
    "print(lemmas)"
   ]
  },
  {
   "cell_type": "code",
   "execution_count": 101,
   "metadata": {},
   "outputs": [],
   "source": [
    "sentences_list=sample.split(\".\")\n",
    "import math"
   ]
  },
  {
   "cell_type": "code",
   "execution_count": 102,
   "metadata": {},
   "outputs": [
    {
     "data": {
      "text/plain": [
       "['\\nNew Delhi: Chastised by External Affairs Minister Sushma Swaraj for “glorifying” and harbouring terrorists, Pakistan on Sunday targeted the RSS and Uttar Pradesh Chief Minister Yogi Adityanath at the United Nations',\n",
       " '\\n\\nIn his reply to Swaraj’s speech at the General Assembly, Pakistan’s envoy to the world body Saad Warraich described the Rashtriya Swayamsevak Sangh as “Fascist” and the “the breeding ground of terrorism”',\n",
       " '\\n\\n“The breeding ground of terrorism in our region is the RSS centres of Fascism',\n",
       " ' The claims of religious superiority are perpetrated through straight patronage all across India,” Warraich’s statement said',\n",
       " '\\n\\nIn a desperate attempt to one-up India in the war of words, Warraich also raked up the National Registry of Citizens released in Assam this July',\n",
       " ' “For a country where members from India’s minority, including Christians and Muslims are publicly lynched at the hands of Hindu zealots, where perpetrators of Samjhauta attack receive state patronage, where an unabashed Hindu extremist Yogi Adityanath who openly advocates religious superiority of the Hindus serves as the face of the largest Indian state, Uttar Pradesh, where right to citizenship to Bengalis in Assam is being arbitrarily rescinded and who have suddenly been made stateless and have been called ‘termites’ by a prominent Indian leader, where churches and mosques are torched, is surely not qualified to give sermons to others,” he said',\n",
       " '\\n\\nIn a strongly worded message to the international community, Swaraj had laid bare Pakistan’s inaction on terrorism, saying its commitment to terrorism as an instrument of official policy had not abated',\n",
       " '\\n\\nEven as the perpetrators of the 9/11 terror attacks in New York met their fate, Swaraj said the mastermind of the 2008 Mumbai terror attack Hafiz Saeed still roams the streets of Pakistan with impunity',\n",
       " ' \"Pakistan\\'s commitment to terrorism as an instrument of official policy has not abated one bit',\n",
       " ' Neither has its belief in hypocrisy,\" Swaraj had said',\n",
       " ' \\n\\n\"The biggest challenge of our era comes from the existential threats of climate change and terrorism',\n",
       " ' We imagined that the arrival of the 21st Century would bring with it an age of common good, defined by cooperation in the quest for peace and prosperity',\n",
       " ' But here in New York, the horrific tragedy of 9/11, and in Mumbai the catastrophe of 26/11 became the nightmares that shattered our dreams,\" Swaraj said',\n",
       " \"\\n\\nShe told the world leaders at the General Debate of the 73rd session at the General Assembly that the most startling evidence of Pakistan's duplicity was the fact that Osama Bin Laden, the architect and ideologue of 9/11 attack, was given safe haven in the country\",\n",
       " ' Even after the world\\'s most wanted terrorist was killed by American special forces, \"Pakistan continued to behave as if nothing had happened,\" she said',\n",
       " '']"
      ]
     },
     "execution_count": 102,
     "metadata": {},
     "output_type": "execute_result"
    }
   ],
   "source": [
    "sentences_list"
   ]
  },
  {
   "cell_type": "code",
   "execution_count": 103,
   "metadata": {},
   "outputs": [],
   "source": [
    "unique_words=list(set(words))"
   ]
  },
  {
   "cell_type": "code",
   "execution_count": 104,
   "metadata": {},
   "outputs": [
    {
     "data": {
      "text/plain": [
       "16"
      ]
     },
     "execution_count": 104,
     "metadata": {},
     "output_type": "execute_result"
    }
   ],
   "source": [
    "no_of_sentences=len(text1)\n",
    "no_of_sentences"
   ]
  },
  {
   "cell_type": "code",
   "execution_count": 105,
   "metadata": {},
   "outputs": [],
   "source": [
    "def compute_isf(unique_words,sentences):\n",
    "    isf_dict={}\n",
    "    for word in unique_words:\n",
    "        count=0\n",
    "        for sentence in sentences:\n",
    "            if word in sentence:\n",
    "                count=count+1\n",
    "        if count==0:\n",
    "            isf_dict[word]=0\n",
    "        else:\n",
    "            isf_dict[word]=math.log((16/count))\n",
    "    return isf_dict"
   ]
  },
  {
   "cell_type": "code",
   "execution_count": 106,
   "metadata": {},
   "outputs": [],
   "source": [
    "inverse_sentence_frequency=compute_isf(unique_words,sentences_list)"
   ]
  },
  {
   "cell_type": "code",
   "execution_count": 107,
   "metadata": {},
   "outputs": [
    {
     "name": "stdout",
     "output_type": "stream",
     "text": [
      "{'external': 0, 'chief': 0, 'met': 2.772588722239781, 'serves': 2.772588722239781, 'torched': 2.772588722239781, 'oneup': 0, 'new': 0, 'churches': 2.772588722239781, 'startling': 2.772588722239781, 'minister': 0, 'told': 2.772588722239781, 'inaction': 2.772588722239781, 'ground': 2.0794415416798357, 'country': 2.0794415416798357, 'members': 2.772588722239781, 'mosques': 2.772588722239781, 'peace': 2.772588722239781, 'belief': 2.772588722239781, 'catastrophe': 2.772588722239781, 'abated': 2.0794415416798357, 'shattered': 2.772588722239781, 'terrorists': 2.772588722239781, 'climate': 2.772588722239781, 'happened': 2.772588722239781, 'harbouring': 2.772588722239781, 'reply': 2.772588722239781, 'zealots': 2.772588722239781, 'commitment': 2.0794415416798357, 'good': 2.772588722239781, '73rd': 2.772588722239781, 'american': 0, 'hands': 2.772588722239781, 'bring': 2.772588722239781, 'tragedy': 2.772588722239781, 'one': 2.0794415416798357, 'forces': 2.772588722239781, 'said': 0.9808292530117262, 'advocates': 2.772588722239781, 'others': 2.772588722239781, 'hypocrisy': 2.772588722239781, 'swaraj': 0, 'change': 2.772588722239781, 'assembly': 0, 'ideologue': 2.772588722239781, 'terrorist': 2.0794415416798357, 'perpetrators': 2.0794415416798357, 'fact': 2.772588722239781, 'yogi': 0, 'suddenly': 2.772588722239781, 'bengalis': 0, 'words': 2.772588722239781, 'rescinded': 2.772588722239781, 'killed': 2.772588722239781, 'described': 2.772588722239781, 'called': 2.772588722239781, 'threats': 2.772588722239781, 'even': 0, 'streets': 2.772588722239781, 'laid': 2.772588722239781, 'imagined': 2.772588722239781, 'targeted': 2.772588722239781, 'attacks': 2.772588722239781, 'receive': 2.772588722239781, 'qualified': 2.772588722239781, 'nothing': 2.772588722239781, 'still': 2.772588722239781, 'comes': 2.772588722239781, 'right': 2.772588722239781, 'leader': 2.0794415416798357, 'mastermind': 2.772588722239781, 'official': 2.0794415416798357, 'assam': 0, 'across': 2.772588722239781, 'pradesh': 0, 'dreams': 2.772588722239781, 'termites': 2.772588722239781, 'adityanath': 0, '2008': 2.772588722239781, 'evidence': 2.772588722239781, 'defined': 2.772588722239781, 'horrific': 2.772588722239781, 'made': 2.772588722239781, 'quest': 2.772588722239781, 'openly': 2.772588722239781, 'sushma': 0, '2611': 0, 'architect': 2.772588722239781, 'citizens': 2.772588722239781, 'terrorism': 1.1631508098056809, 'attempt': 2.772588722239781, 'hindu': 0, 'united': 0, 'extremist': 2.772588722239781, 'national': 2.772588722239781, 'minority': 2.772588722239781, 'osama': 0, 'hindus': 0, 'sermons': 2.772588722239781, 'saad': 0, 'prominent': 2.772588722239781, 'fascism': 0, 'given': 2.772588722239781, 'safe': 2.772588722239781, 'pakistan': 0, 'citizenship': 2.772588722239781, 'instrument': 2.0794415416798357, 'breeding': 2.0794415416798357, 'face': 2.772588722239781, 'era': 1.1631508098056809, 'nations': 0, 'unabashed': 2.772588722239781, 'mumbai': 0, 'arrival': 2.772588722239781, 'stateless': 2.772588722239781, 'york': 0, 'surely': 2.772588722239781, 'debate': 0, 'raked': 2.772588722239781, 'continued': 2.772588722239781, 'biggest': 2.772588722239781, 'christians': 0, 'worded': 2.772588722239781, 'publicly': 2.772588722239781, 'strongly': 2.772588722239781, 'muslims': 0, 'century': 0, 'sunday': 0, 'bit': 2.0794415416798357, 'envoy': 2.772588722239781, 'delhi': 0, 'session': 2.772588722239781, 'arbitrarily': 2.772588722239781, 'claims': 2.772588722239781, 'message': 2.772588722239781, 'patronage': 2.0794415416798357, 'bin': 0, 'largest': 2.772588722239781, 'desperate': 2.772588722239781, 'uttar': 0, 'nightmares': 2.772588722239781, 'challenge': 2.772588722239781, 'leaders': 2.772588722239781, 'policy': 2.0794415416798357, 'behave': 2.772588722239781, 'released': 2.772588722239781, 'cooperation': 2.772588722239781, 'perpetrated': 2.772588722239781, 'including': 2.772588722239781, 'registry': 0, 'laden': 0, 'world': 1.6739764335716716, 'bare': 2.772588722239781, 'lynched': 2.772588722239781, 'roams': 2.772588722239781, 'region': 2.772588722239781, 'swayamsevak': 0, 'indian': 0, 'became': 2.772588722239781, 'affairs': 0, 'also': 2.772588722239781, 'international': 2.772588722239781, 'chastised': 0, 'wanted': 2.772588722239781, '911': 0, 'statement': 2.772588722239781, 'fate': 2.772588722239781, 'religious': 2.0794415416798357, 'warraich': 0, 'glorifying': 2.772588722239781, 'prosperity': 2.772588722239781, 'rashtriya': 0, 'general': 0, 'impunity': 2.772588722239781, 'fascist': 0, 'neither': 0, 'saying': 2.772588722239781, 'sangh': 0, 'hafiz': 0, 'terror': 0.6931471805599453, 'give': 2.0794415416798357, 'common': 2.772588722239781, 'body': 2.772588722239781, 'would': 2.772588722239781, 'speech': 2.772588722239781, 'straight': 2.772588722239781, 'state': 2.0794415416798357, 'war': 0.8266785731844679, '21st': 2.772588722239781, 'rss': 0, 'superiority': 2.0794415416798357, 'community': 2.772588722239781, 'july': 0, 'samjhauta': 0, 'age': 1.1631508098056809, 'duplicity': 2.772588722239781, 'attack': 1.6739764335716716, 'saeed': 0, 'existential': 2.772588722239781, 'india': 0, 'special': 2.772588722239781, 'centres': 2.772588722239781}\n"
     ]
    }
   ],
   "source": [
    "print(inverse_sentence_frequency)"
   ]
  },
  {
   "cell_type": "code",
   "execution_count": null,
   "metadata": {},
   "outputs": [],
   "source": []
  }
 ],
 "metadata": {
  "kernelspec": {
   "display_name": "Python 3",
   "language": "python",
   "name": "python3"
  },
  "language_info": {
   "codemirror_mode": {
    "name": "ipython",
    "version": 3
   },
   "file_extension": ".py",
   "mimetype": "text/x-python",
   "name": "python",
   "nbconvert_exporter": "python",
   "pygments_lexer": "ipython3",
   "version": "3.6.5"
  }
 },
 "nbformat": 4,
 "nbformat_minor": 2
}
